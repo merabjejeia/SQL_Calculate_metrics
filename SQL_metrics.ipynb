{
 "cells": [
  {
   "cell_type": "code",
   "execution_count": 1,
   "metadata": {},
   "outputs": [],
   "source": [
    "import pandas as pd\n",
    "import pandahouse as ph"
   ]
  },
  {
   "attachments": {},
   "cell_type": "markdown",
   "metadata": {},
   "source": [
    "Образовательные курсы состоят из различных уроков, каждый из которых состоит из нескольких маленьких заданий. \n",
    "Назовём очень усердным учеником того пользователя, который хотя бы раз за текущий месяц правильно решил 20 заданий.\n",
    "\n",
    "## Задание 1\n",
    "Необходимо написать оптимальный запрос, который даст информацию о количестве очень усердных студентов"
   ]
  },
  {
   "attachments": {},
   "cell_type": "markdown",
   "metadata": {},
   "source": [
    "#### Подключимся к Clickhouse и выполним запрос"
   ]
  },
  {
   "cell_type": "code",
   "execution_count": 5,
   "metadata": {},
   "outputs": [],
   "source": [
    "connection_default = {'host': 'http://clickhouse.beslan.pro:8080',\n",
    "                      'database':'default',\n",
    "                      'user':'student', \n",
    "                      'password':'dpo_python_2020'\n",
    "                     }"
   ]
  },
  {
   "cell_type": "code",
   "execution_count": 8,
   "metadata": {},
   "outputs": [],
   "source": [
    "q = '''\n",
    "\n",
    "    SELECT\n",
    "        DISTINCT(st_id),\n",
    "        sum(correct) as correct_sum\n",
    "\n",
    "    FROM \n",
    "        default.peas\n",
    "\n",
    "    GROUP BY \n",
    "        st_id\n",
    "\n",
    "    HAVING \n",
    "        correct_sum >= 20\n",
    "\n",
    "    ORDER BY \n",
    "        correct_sum DESC\n",
    "    \n",
    "    '''"
   ]
  },
  {
   "cell_type": "code",
   "execution_count": 9,
   "metadata": {},
   "outputs": [
    {
     "data": {
      "text/plain": [
       "136"
      ]
     },
     "execution_count": 9,
     "metadata": {},
     "output_type": "execute_result"
    }
   ],
   "source": [
    "q_test = ph.read_clickhouse(query=q, connection=connection_default)\n",
    "q_test.shape[0]"
   ]
  },
  {
   "attachments": {},
   "cell_type": "markdown",
   "metadata": {},
   "source": [
    "Получается количество очень усердных учеников составляет - 136 человек\n",
    "____"
   ]
  },
  {
   "attachments": {},
   "cell_type": "markdown",
   "metadata": {},
   "source": [
    "## Задание 2\n",
    "Необходимо в одном запросе выгрузить следующую информацию о группах пользователей:   \n",
    "ARPU   \n",
    "ARPAU   \n",
    "CR в покупку   \n",
    "СR активного пользователя в покупку   \n",
    "CR пользователя из активности по математике (subject = ’math’) в покупку курса по математике\n"
   ]
  },
  {
   "cell_type": "code",
   "execution_count": 10,
   "metadata": {},
   "outputs": [],
   "source": [
    "q_2 = '''\n",
    "    \n",
    "    -- ARPU = Доход/Число пользователей\n",
    "    -- ARPAU = Доход активных пользователей/Число активных пользователей\n",
    "    -- CR в покупку = Число пользователей, которые купили курс/Число пользователей\n",
    "    -- СR активного пользователя в покупку = Число активных пользователей, которые купили курс / Число активных пользователей\n",
    "    -- CR пользователя из активности по математике в покупку курса по математике = Число активных пользователей по математике, которые купили курс/Число активных пользователей по математике\n",
    "\n",
    "\n",
    "SELECT \n",
    "    test_grp,\n",
    "    round(SUM(df.money)/uniqExact(ds.st_id), 2) as ARPU,\n",
    "    round(SUMIf(df.money, active.is_Active > 10)/uniqIf(ds.st_id, active.is_Active > 10), 2) as ARPAU,\n",
    "    round(100*uniqIf(ds.st_id, df.money > 0)/uniqExact(ds.st_id), 2) as CR,\n",
    "    round(100*uniqIf(ds.st_id, active.is_Active > 10 and df.money > 0)/uniqIf(ds.st_id, active.is_Active > 10) ,2) as CR_active,\n",
    "    round(100*uniqIf(ds.st_id, active.is_Active_Math > 1 and df.money > 0)/\n",
    "                                                            uniqIf(ds.st_id, active.is_Active_Math > 1), 2) as CR_active_math\n",
    "FROM default.studs as ds\n",
    "LEFT JOIN (\n",
    "            SELECT \n",
    "                st_id, SUM(correct) as is_Active, SUMIf(correct, subject = 'Math') as is_Active_Math\n",
    "            FROM default.peas\n",
    "            GROUP BY st_id\n",
    "            ) as active  \n",
    "ON ds.st_id = active.st_id\n",
    "LEFT JOIN default.final_project_check as df\n",
    "ON ds.st_id = df.st_id\n",
    "GROUP BY test_grp\n",
    "    \n",
    "    '''"
   ]
  },
  {
   "cell_type": "code",
   "execution_count": 11,
   "metadata": {},
   "outputs": [
    {
     "data": {
      "text/html": [
       "<div>\n",
       "<style scoped>\n",
       "    .dataframe tbody tr th:only-of-type {\n",
       "        vertical-align: middle;\n",
       "    }\n",
       "\n",
       "    .dataframe tbody tr th {\n",
       "        vertical-align: top;\n",
       "    }\n",
       "\n",
       "    .dataframe thead th {\n",
       "        text-align: right;\n",
       "    }\n",
       "</style>\n",
       "<table border=\"1\" class=\"dataframe\">\n",
       "  <thead>\n",
       "    <tr style=\"text-align: right;\">\n",
       "      <th></th>\n",
       "      <th>test_grp</th>\n",
       "      <th>ARPU</th>\n",
       "      <th>ARPAU</th>\n",
       "      <th>CR</th>\n",
       "      <th>CR_active</th>\n",
       "      <th>CR_active_math</th>\n",
       "    </tr>\n",
       "  </thead>\n",
       "  <tbody>\n",
       "    <tr>\n",
       "      <th>0</th>\n",
       "      <td>control</td>\n",
       "      <td>4540.98</td>\n",
       "      <td>10393.70</td>\n",
       "      <td>4.92</td>\n",
       "      <td>11.02</td>\n",
       "      <td>10.20</td>\n",
       "    </tr>\n",
       "    <tr>\n",
       "      <th>1</th>\n",
       "      <td>pilot</td>\n",
       "      <td>11508.47</td>\n",
       "      <td>29739.58</td>\n",
       "      <td>10.85</td>\n",
       "      <td>26.04</td>\n",
       "      <td>14.29</td>\n",
       "    </tr>\n",
       "  </tbody>\n",
       "</table>\n",
       "</div>"
      ],
      "text/plain": [
       "  test_grp      ARPU     ARPAU     CR  CR_active  CR_active_math\n",
       "0  control   4540.98  10393.70   4.92      11.02           10.20\n",
       "1    pilot  11508.47  29739.58  10.85      26.04           14.29"
      ]
     },
     "execution_count": 11,
     "metadata": {},
     "output_type": "execute_result"
    }
   ],
   "source": [
    "q_test_2 = ph.read_clickhouse(query=q_2, connection=connection_default)\n",
    "q_test_2"
   ]
  }
 ],
 "metadata": {
  "kernelspec": {
   "display_name": "base",
   "language": "python",
   "name": "python3"
  },
  "language_info": {
   "codemirror_mode": {
    "name": "ipython",
    "version": 3
   },
   "file_extension": ".py",
   "mimetype": "text/x-python",
   "name": "python",
   "nbconvert_exporter": "python",
   "pygments_lexer": "ipython3",
   "version": "3.10.8 | packaged by conda-forge | (main, Nov 24 2022, 14:07:00) [MSC v.1916 64 bit (AMD64)]"
  },
  "orig_nbformat": 4,
  "vscode": {
   "interpreter": {
    "hash": "bc038f49922869149b65b4598415aebf52596316e5de8512e1ce1680ba125e28"
   }
  }
 },
 "nbformat": 4,
 "nbformat_minor": 2
}
